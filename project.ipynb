{
 "cells": [
  {
   "cell_type": "code",
   "execution_count": 1,
   "metadata": {},
   "outputs": [],
   "source": [
    "import numpy as np\n",
    "import pandas as pd\n",
    "import matplotlib.pyplot as plt\n",
    "%matplotlib inline"
   ]
  },
  {
   "cell_type": "code",
   "execution_count": 2,
   "metadata": {},
   "outputs": [],
   "source": [
    "df = pd.read_csv('household_power_consumption (Recovered).csv', low_memory=False)\n",
    "fitbit = pd.read_csv('fitbit_new.csv', low_memory=False)\n",
    "sleep = pd.read_csv('OneYearFitBitDataSleep.csv', low_memory=False)"
   ]
  },
  {
   "cell_type": "code",
   "execution_count": 3,
   "metadata": {},
   "outputs": [
    {
     "data": {
      "text/html": [
       "<div>\n",
       "<style scoped>\n",
       "    .dataframe tbody tr th:only-of-type {\n",
       "        vertical-align: middle;\n",
       "    }\n",
       "\n",
       "    .dataframe tbody tr th {\n",
       "        vertical-align: top;\n",
       "    }\n",
       "\n",
       "    .dataframe thead th {\n",
       "        text-align: right;\n",
       "    }\n",
       "</style>\n",
       "<table border=\"1\" class=\"dataframe\">\n",
       "  <thead>\n",
       "    <tr style=\"text-align: right;\">\n",
       "      <th></th>\n",
       "      <th>Data</th>\n",
       "      <th>CaloriesBurned</th>\n",
       "      <th>Steps</th>\n",
       "      <th>Distance</th>\n",
       "      <th>Piani</th>\n",
       "      <th>MinutesOfSedentaryActivity</th>\n",
       "      <th>MinutesOfLightActivity</th>\n",
       "      <th>MinutesOfModerateActivity</th>\n",
       "      <th>MinutesOfIntenseActivity</th>\n",
       "      <th>CalorieActivity</th>\n",
       "    </tr>\n",
       "  </thead>\n",
       "  <tbody>\n",
       "    <tr>\n",
       "      <th>0</th>\n",
       "      <td>04-06-15</td>\n",
       "      <td>3.470</td>\n",
       "      <td>16.060</td>\n",
       "      <td>1193</td>\n",
       "      <td>11</td>\n",
       "      <td>724.000</td>\n",
       "      <td>239</td>\n",
       "      <td>38</td>\n",
       "      <td>70</td>\n",
       "      <td>1.939</td>\n",
       "    </tr>\n",
       "    <tr>\n",
       "      <th>1</th>\n",
       "      <td>08-06-15</td>\n",
       "      <td>3.267</td>\n",
       "      <td>13.926</td>\n",
       "      <td>1035</td>\n",
       "      <td>21</td>\n",
       "      <td>701.000</td>\n",
       "      <td>265</td>\n",
       "      <td>63</td>\n",
       "      <td>29</td>\n",
       "      <td>1.785</td>\n",
       "    </tr>\n",
       "    <tr>\n",
       "      <th>2</th>\n",
       "      <td>13-06-15</td>\n",
       "      <td>4.083</td>\n",
       "      <td>26.444</td>\n",
       "      <td>1965</td>\n",
       "      <td>22</td>\n",
       "      <td>549.000</td>\n",
       "      <td>429</td>\n",
       "      <td>56</td>\n",
       "      <td>56</td>\n",
       "      <td>2.818</td>\n",
       "    </tr>\n",
       "    <tr>\n",
       "      <th>3</th>\n",
       "      <td>14-06-15</td>\n",
       "      <td>2.789</td>\n",
       "      <td>12.335</td>\n",
       "      <td>916</td>\n",
       "      <td>35</td>\n",
       "      <td>1.245</td>\n",
       "      <td>88</td>\n",
       "      <td>10</td>\n",
       "      <td>93</td>\n",
       "      <td>1.209</td>\n",
       "    </tr>\n",
       "    <tr>\n",
       "      <th>4</th>\n",
       "      <td>15-06-15</td>\n",
       "      <td>3.234</td>\n",
       "      <td>14.137</td>\n",
       "      <td>105</td>\n",
       "      <td>11</td>\n",
       "      <td>642.000</td>\n",
       "      <td>305</td>\n",
       "      <td>8</td>\n",
       "      <td>51</td>\n",
       "      <td>1.756</td>\n",
       "    </tr>\n",
       "  </tbody>\n",
       "</table>\n",
       "</div>"
      ],
      "text/plain": [
       "       Data  CaloriesBurned   Steps  Distance  Piani  \\\n",
       "0  04-06-15           3.470  16.060      1193     11   \n",
       "1  08-06-15           3.267  13.926      1035     21   \n",
       "2  13-06-15           4.083  26.444      1965     22   \n",
       "3  14-06-15           2.789  12.335       916     35   \n",
       "4  15-06-15           3.234  14.137       105     11   \n",
       "\n",
       "   MinutesOfSedentaryActivity  MinutesOfLightActivity  \\\n",
       "0                     724.000                     239   \n",
       "1                     701.000                     265   \n",
       "2                     549.000                     429   \n",
       "3                       1.245                      88   \n",
       "4                     642.000                     305   \n",
       "\n",
       "   MinutesOfModerateActivity  MinutesOfIntenseActivity  CalorieActivity  \n",
       "0                         38                        70            1.939  \n",
       "1                         63                        29            1.785  \n",
       "2                         56                        56            2.818  \n",
       "3                         10                        93            1.209  \n",
       "4                          8                        51            1.756  "
      ]
     },
     "execution_count": 3,
     "metadata": {},
     "output_type": "execute_result"
    }
   ],
   "source": [
    "fitbit.head(5)"
   ]
  },
  {
   "cell_type": "code",
   "execution_count": 4,
   "metadata": {},
   "outputs": [
    {
     "data": {
      "text/html": [
       "<div>\n",
       "<style scoped>\n",
       "    .dataframe tbody tr th:only-of-type {\n",
       "        vertical-align: middle;\n",
       "    }\n",
       "\n",
       "    .dataframe tbody tr th {\n",
       "        vertical-align: top;\n",
       "    }\n",
       "\n",
       "    .dataframe thead th {\n",
       "        text-align: right;\n",
       "    }\n",
       "</style>\n",
       "<table border=\"1\" class=\"dataframe\">\n",
       "  <thead>\n",
       "    <tr style=\"text-align: right;\">\n",
       "      <th></th>\n",
       "      <th>Date</th>\n",
       "      <th>Time</th>\n",
       "      <th>Global_active_power</th>\n",
       "      <th>Global_reactive_power</th>\n",
       "      <th>Voltage</th>\n",
       "      <th>Global_intensity</th>\n",
       "      <th>Sub_metering_1</th>\n",
       "      <th>Sub_metering_2</th>\n",
       "      <th>Sub_metering_3</th>\n",
       "    </tr>\n",
       "  </thead>\n",
       "  <tbody>\n",
       "    <tr>\n",
       "      <th>0</th>\n",
       "      <td>16-12-06</td>\n",
       "      <td>17:24:00</td>\n",
       "      <td>4.216</td>\n",
       "      <td>0.418</td>\n",
       "      <td>234.84</td>\n",
       "      <td>18.4</td>\n",
       "      <td>0</td>\n",
       "      <td>1</td>\n",
       "      <td>17.0</td>\n",
       "    </tr>\n",
       "    <tr>\n",
       "      <th>1</th>\n",
       "      <td>16-12-06</td>\n",
       "      <td>17:25:00</td>\n",
       "      <td>5.36</td>\n",
       "      <td>0.436</td>\n",
       "      <td>233.63</td>\n",
       "      <td>23</td>\n",
       "      <td>0</td>\n",
       "      <td>1</td>\n",
       "      <td>16.0</td>\n",
       "    </tr>\n",
       "    <tr>\n",
       "      <th>2</th>\n",
       "      <td>16-12-06</td>\n",
       "      <td>17:26:00</td>\n",
       "      <td>5.374</td>\n",
       "      <td>0.498</td>\n",
       "      <td>233.29</td>\n",
       "      <td>23</td>\n",
       "      <td>0</td>\n",
       "      <td>2</td>\n",
       "      <td>17.0</td>\n",
       "    </tr>\n",
       "    <tr>\n",
       "      <th>3</th>\n",
       "      <td>16-12-06</td>\n",
       "      <td>17:27:00</td>\n",
       "      <td>5.388</td>\n",
       "      <td>0.502</td>\n",
       "      <td>233.74</td>\n",
       "      <td>23</td>\n",
       "      <td>0</td>\n",
       "      <td>1</td>\n",
       "      <td>17.0</td>\n",
       "    </tr>\n",
       "    <tr>\n",
       "      <th>4</th>\n",
       "      <td>16-12-06</td>\n",
       "      <td>17:28:00</td>\n",
       "      <td>3.666</td>\n",
       "      <td>0.528</td>\n",
       "      <td>235.68</td>\n",
       "      <td>15.8</td>\n",
       "      <td>0</td>\n",
       "      <td>1</td>\n",
       "      <td>17.0</td>\n",
       "    </tr>\n",
       "  </tbody>\n",
       "</table>\n",
       "</div>"
      ],
      "text/plain": [
       "       Date      Time Global_active_power Global_reactive_power Voltage  \\\n",
       "0  16-12-06  17:24:00               4.216                 0.418  234.84   \n",
       "1  16-12-06  17:25:00                5.36                 0.436  233.63   \n",
       "2  16-12-06  17:26:00               5.374                 0.498  233.29   \n",
       "3  16-12-06  17:27:00               5.388                 0.502  233.74   \n",
       "4  16-12-06  17:28:00               3.666                 0.528  235.68   \n",
       "\n",
       "  Global_intensity Sub_metering_1 Sub_metering_2  Sub_metering_3  \n",
       "0             18.4              0              1            17.0  \n",
       "1               23              0              1            16.0  \n",
       "2               23              0              2            17.0  \n",
       "3               23              0              1            17.0  \n",
       "4             15.8              0              1            17.0  "
      ]
     },
     "execution_count": 4,
     "metadata": {},
     "output_type": "execute_result"
    }
   ],
   "source": [
    "df.head()"
   ]
  },
  {
   "cell_type": "code",
   "execution_count": 5,
   "metadata": {},
   "outputs": [
    {
     "data": {
      "text/html": [
       "<div>\n",
       "<style scoped>\n",
       "    .dataframe tbody tr th:only-of-type {\n",
       "        vertical-align: middle;\n",
       "    }\n",
       "\n",
       "    .dataframe tbody tr th {\n",
       "        vertical-align: top;\n",
       "    }\n",
       "\n",
       "    .dataframe thead th {\n",
       "        text-align: right;\n",
       "    }\n",
       "</style>\n",
       "<table border=\"1\" class=\"dataframe\">\n",
       "  <thead>\n",
       "    <tr style=\"text-align: right;\">\n",
       "      <th></th>\n",
       "      <th>Date</th>\n",
       "      <th>MinutesOfSleep</th>\n",
       "      <th>MinutesOfBeingAwake</th>\n",
       "      <th>NumberOfAwakings</th>\n",
       "      <th>LengthOfRestInMinutes</th>\n",
       "    </tr>\n",
       "  </thead>\n",
       "  <tbody>\n",
       "    <tr>\n",
       "      <th>0</th>\n",
       "      <td>09-05-2015</td>\n",
       "      <td>384</td>\n",
       "      <td>26</td>\n",
       "      <td>23</td>\n",
       "      <td>417</td>\n",
       "    </tr>\n",
       "    <tr>\n",
       "      <th>1</th>\n",
       "      <td>10-05-2015</td>\n",
       "      <td>454</td>\n",
       "      <td>35</td>\n",
       "      <td>21</td>\n",
       "      <td>491</td>\n",
       "    </tr>\n",
       "    <tr>\n",
       "      <th>2</th>\n",
       "      <td>11-05-2015</td>\n",
       "      <td>387</td>\n",
       "      <td>46</td>\n",
       "      <td>25</td>\n",
       "      <td>436</td>\n",
       "    </tr>\n",
       "    <tr>\n",
       "      <th>3</th>\n",
       "      <td>12-05-2015</td>\n",
       "      <td>311</td>\n",
       "      <td>31</td>\n",
       "      <td>21</td>\n",
       "      <td>350</td>\n",
       "    </tr>\n",
       "    <tr>\n",
       "      <th>4</th>\n",
       "      <td>13-05-2015</td>\n",
       "      <td>407</td>\n",
       "      <td>65</td>\n",
       "      <td>44</td>\n",
       "      <td>491</td>\n",
       "    </tr>\n",
       "  </tbody>\n",
       "</table>\n",
       "</div>"
      ],
      "text/plain": [
       "         Date  MinutesOfSleep  MinutesOfBeingAwake  NumberOfAwakings  \\\n",
       "0  09-05-2015             384                   26                23   \n",
       "1  10-05-2015             454                   35                21   \n",
       "2  11-05-2015             387                   46                25   \n",
       "3  12-05-2015             311                   31                21   \n",
       "4  13-05-2015             407                   65                44   \n",
       "\n",
       "   LengthOfRestInMinutes  \n",
       "0                    417  \n",
       "1                    491  \n",
       "2                    436  \n",
       "3                    350  \n",
       "4                    491  "
      ]
     },
     "execution_count": 5,
     "metadata": {},
     "output_type": "execute_result"
    }
   ],
   "source": [
    "sleep.head()"
   ]
  },
  {
   "cell_type": "code",
   "execution_count": 6,
   "metadata": {},
   "outputs": [],
   "source": [
    "fitbit.drop(fitbit.Piani,inplace=True)"
   ]
  },
  {
   "cell_type": "code",
   "execution_count": 7,
   "metadata": {},
   "outputs": [
    {
     "data": {
      "image/png": "[encoded data removed]",
      "text/plain": [
       "<Figure size 720x432 with 2 Axes>"
      ]
     },
     "metadata": {
      "needs_background": "light"
     },
     "output_type": "display_data"
    }
   ],
   "source": [
    "fig,ax = plt.subplots(figsize = (10,6))\n",
    "fitbit.plot(kind = 'scatter',x='CaloriesBurned',y='Steps', c='MinutesOfSedentaryActivity',ax=ax)\n",
    "ax.set_xlabel('Calories Burned');"
   ]
  },
  {
   "cell_type": "code",
   "execution_count": 8,
   "metadata": {},
   "outputs": [],
   "source": [
    "SA=[]\n",
    "\n",
    "for x in fitbit['MinutesOfSedentaryActivity']:\n",
    "    if x>520:\n",
    "        SA.append(1)\n",
    "    else:\n",
    "        SA.append(0)\n",
    "\n",
    "fitbit['SedentaryAct']=SA"
   ]
  },
  {
   "cell_type": "code",
   "execution_count": 29,
   "metadata": {},
   "outputs": [],
   "source": [
    "x = fitbit.drop(['SedentaryAct','Data'],axis=1)"
   ]
  },
  {
   "cell_type": "code",
   "execution_count": 30,
   "metadata": {},
   "outputs": [],
   "source": [
    "y = fitbit.SedentaryAct"
   ]
  },
  {
   "cell_type": "code",
   "execution_count": 31,
   "metadata": {},
   "outputs": [],
   "source": [
    "from sklearn.ensemble import RandomForestClassifier\n",
    "clf = RandomForestClassifier()"
   ]
  },
  {
   "cell_type": "code",
   "execution_count": 32,
   "metadata": {},
   "outputs": [],
   "source": [
    "from sklearn.model_selection import train_test_split\n",
    "\n",
    "xtrain,xtest,ytrain,ytest=train_test_split(x,y,test_size=0.2)"
   ]
  },
  {
   "cell_type": "code",
   "execution_count": 33,
   "metadata": {},
   "outputs": [
    {
     "data": {
      "text/html": [
       "<div>\n",
       "<style scoped>\n",
       "    .dataframe tbody tr th:only-of-type {\n",
       "        vertical-align: middle;\n",
       "    }\n",
       "\n",
       "    .dataframe tbody tr th {\n",
       "        vertical-align: top;\n",
       "    }\n",
       "\n",
       "    .dataframe thead th {\n",
       "        text-align: right;\n",
       "    }\n",
       "</style>\n",
       "<table border=\"1\" class=\"dataframe\">\n",
       "  <thead>\n",
       "    <tr style=\"text-align: right;\">\n",
       "      <th></th>\n",
       "      <th>CaloriesBurned</th>\n",
       "      <th>Steps</th>\n",
       "      <th>Distance</th>\n",
       "      <th>Piani</th>\n",
       "      <th>MinutesOfSedentaryActivity</th>\n",
       "      <th>MinutesOfLightActivity</th>\n",
       "      <th>MinutesOfModerateActivity</th>\n",
       "      <th>MinutesOfIntenseActivity</th>\n",
       "      <th>CalorieActivity</th>\n",
       "    </tr>\n",
       "  </thead>\n",
       "  <tbody>\n",
       "    <tr>\n",
       "      <th>27</th>\n",
       "      <td>3.259</td>\n",
       "      <td>12.168</td>\n",
       "      <td>904</td>\n",
       "      <td>18</td>\n",
       "      <td>731.000</td>\n",
       "      <td>212</td>\n",
       "      <td>52</td>\n",
       "      <td>60</td>\n",
       "      <td>1.725</td>\n",
       "    </tr>\n",
       "    <tr>\n",
       "      <th>29</th>\n",
       "      <td>3.569</td>\n",
       "      <td>14.996</td>\n",
       "      <td>1114</td>\n",
       "      <td>32</td>\n",
       "      <td>573.000</td>\n",
       "      <td>321</td>\n",
       "      <td>50</td>\n",
       "      <td>54</td>\n",
       "      <td>2.155</td>\n",
       "    </tr>\n",
       "    <tr>\n",
       "      <th>31</th>\n",
       "      <td>3.228</td>\n",
       "      <td>12.739</td>\n",
       "      <td>947</td>\n",
       "      <td>16</td>\n",
       "      <td>761.000</td>\n",
       "      <td>247</td>\n",
       "      <td>47</td>\n",
       "      <td>47</td>\n",
       "      <td>1.733</td>\n",
       "    </tr>\n",
       "    <tr>\n",
       "      <th>36</th>\n",
       "      <td>3.071</td>\n",
       "      <td>13.262</td>\n",
       "      <td>985</td>\n",
       "      <td>20</td>\n",
       "      <td>1.093</td>\n",
       "      <td>166</td>\n",
       "      <td>33</td>\n",
       "      <td>70</td>\n",
       "      <td>1.495</td>\n",
       "    </tr>\n",
       "    <tr>\n",
       "      <th>37</th>\n",
       "      <td>2.984</td>\n",
       "      <td>9.090</td>\n",
       "      <td>675</td>\n",
       "      <td>17</td>\n",
       "      <td>719.000</td>\n",
       "      <td>234</td>\n",
       "      <td>23</td>\n",
       "      <td>23</td>\n",
       "      <td>1.349</td>\n",
       "    </tr>\n",
       "  </tbody>\n",
       "</table>\n",
       "</div>"
      ],
      "text/plain": [
       "    CaloriesBurned   Steps  Distance  Piani  MinutesOfSedentaryActivity  \\\n",
       "27           3.259  12.168       904     18                     731.000   \n",
       "29           3.569  14.996      1114     32                     573.000   \n",
       "31           3.228  12.739       947     16                     761.000   \n",
       "36           3.071  13.262       985     20                       1.093   \n",
       "37           2.984   9.090       675     17                     719.000   \n",
       "\n",
       "    MinutesOfLightActivity  MinutesOfModerateActivity  \\\n",
       "27                     212                         52   \n",
       "29                     321                         50   \n",
       "31                     247                         47   \n",
       "36                     166                         33   \n",
       "37                     234                         23   \n",
       "\n",
       "    MinutesOfIntenseActivity  CalorieActivity  \n",
       "27                        60            1.725  \n",
       "29                        54            2.155  \n",
       "31                        47            1.733  \n",
       "36                        70            1.495  \n",
       "37                        23            1.349  "
      ]
     },
     "execution_count": 33,
     "metadata": {},
     "output_type": "execute_result"
    }
   ],
   "source": [
    "x.head()"
   ]
  },
  {
   "cell_type": "code",
   "execution_count": 34,
   "metadata": {},
   "outputs": [
    {
     "name": "stderr",
     "output_type": "stream",
     "text": [
      "D:\\a\\lib\\site-packages\\sklearn\\ensemble\\forest.py:245: FutureWarning: The default value of n_estimators will change from 10 in version 0.20 to 100 in 0.22.\n",
      "  \"10 in version 0.20 to 100 in 0.22.\", FutureWarning)\n"
     ]
    },
    {
     "data": {
      "text/plain": [
       "RandomForestClassifier(bootstrap=True, class_weight=None, criterion='gini',\n",
       "                       max_depth=None, max_features='auto', max_leaf_nodes=None,\n",
       "                       min_impurity_decrease=0.0, min_impurity_split=None,\n",
       "                       min_samples_leaf=1, min_samples_split=2,\n",
       "                       min_weight_fraction_leaf=0.0, n_estimators=10,\n",
       "                       n_jobs=None, oob_score=False, random_state=None,\n",
       "                       verbose=0, warm_start=False)"
      ]
     },
     "execution_count": 34,
     "metadata": {},
     "output_type": "execute_result"
    }
   ],
   "source": [
    "clf.fit(xtrain,ytrain)"
   ]
  },
  {
   "cell_type": "code",
   "execution_count": 35,
   "metadata": {},
   "outputs": [
    {
     "data": {
      "text/plain": [
       "1.0"
      ]
     },
     "execution_count": 35,
     "metadata": {},
     "output_type": "execute_result"
    }
   ],
   "source": [
    "clf.score(xtrain,ytrain)"
   ]
  },
  {
   "cell_type": "code",
   "execution_count": 36,
   "metadata": {},
   "outputs": [
    {
     "data": {
      "text/plain": [
       "array([1, 1, 0, 0, 1, 1, 1, 0, 1, 1, 0, 1, 1, 1, 1, 1, 1, 1, 1, 1, 1, 1,\n",
       "       0, 1, 1, 1, 1, 1, 1, 1, 0, 0, 0, 0, 0, 1, 1, 0, 0, 1, 1, 1, 1, 0,\n",
       "       1, 1, 0, 0, 0, 1, 1, 0, 1, 1, 0, 1, 0, 1], dtype=int64)"
      ]
     },
     "execution_count": 36,
     "metadata": {},
     "output_type": "execute_result"
    }
   ],
   "source": [
    "ypreds = clf.predict(xtest)\n",
    "ypreds"
   ]
  },
  {
   "cell_type": "code",
   "execution_count": 37,
   "metadata": {},
   "outputs": [
    {
     "data": {
      "text/plain": [
       "0.9827586206896551"
      ]
     },
     "execution_count": 37,
     "metadata": {},
     "output_type": "execute_result"
    }
   ],
   "source": [
    "clf.score(xtest,ytest)"
   ]
  },
  {
   "cell_type": "code",
   "execution_count": 38,
   "metadata": {},
   "outputs": [
    {
     "data": {
      "text/plain": [
       "0.9827586206896551"
      ]
     },
     "execution_count": 38,
     "metadata": {},
     "output_type": "execute_result"
    }
   ],
   "source": [
    "from sklearn.metrics import accuracy_score\n",
    "accuracy_score(ytest,ypreds)"
   ]
  },
  {
   "cell_type": "code",
   "execution_count": 39,
   "metadata": {},
   "outputs": [
    {
     "data": {
      "text/html": [
       "<div>\n",
       "<style scoped>\n",
       "    .dataframe tbody tr th:only-of-type {\n",
       "        vertical-align: middle;\n",
       "    }\n",
       "\n",
       "    .dataframe tbody tr th {\n",
       "        vertical-align: top;\n",
       "    }\n",
       "\n",
       "    .dataframe thead th {\n",
       "        text-align: right;\n",
       "    }\n",
       "</style>\n",
       "<table border=\"1\" class=\"dataframe\">\n",
       "  <thead>\n",
       "    <tr style=\"text-align: right;\">\n",
       "      <th></th>\n",
       "      <th>CaloriesBurned</th>\n",
       "      <th>Steps</th>\n",
       "      <th>Distance</th>\n",
       "      <th>Piani</th>\n",
       "      <th>MinutesOfSedentaryActivity</th>\n",
       "      <th>MinutesOfLightActivity</th>\n",
       "      <th>MinutesOfModerateActivity</th>\n",
       "      <th>MinutesOfIntenseActivity</th>\n",
       "      <th>CalorieActivity</th>\n",
       "    </tr>\n",
       "  </thead>\n",
       "  <tbody>\n",
       "    <tr>\n",
       "      <th>188</th>\n",
       "      <td>2.636</td>\n",
       "      <td>7.378</td>\n",
       "      <td>548</td>\n",
       "      <td>12</td>\n",
       "      <td>838.0</td>\n",
       "      <td>176</td>\n",
       "      <td>33</td>\n",
       "      <td>12</td>\n",
       "      <td>1.044</td>\n",
       "    </tr>\n",
       "    <tr>\n",
       "      <th>170</th>\n",
       "      <td>2.835</td>\n",
       "      <td>10.740</td>\n",
       "      <td>808</td>\n",
       "      <td>11</td>\n",
       "      <td>1.1</td>\n",
       "      <td>146</td>\n",
       "      <td>39</td>\n",
       "      <td>52</td>\n",
       "      <td>1.271</td>\n",
       "    </tr>\n",
       "    <tr>\n",
       "      <th>245</th>\n",
       "      <td>2.927</td>\n",
       "      <td>7.995</td>\n",
       "      <td>598</td>\n",
       "      <td>15</td>\n",
       "      <td>802.0</td>\n",
       "      <td>231</td>\n",
       "      <td>34</td>\n",
       "      <td>16</td>\n",
       "      <td>1.347</td>\n",
       "    </tr>\n",
       "    <tr>\n",
       "      <th>146</th>\n",
       "      <td>3.336</td>\n",
       "      <td>11.151</td>\n",
       "      <td>829</td>\n",
       "      <td>1</td>\n",
       "      <td>705.0</td>\n",
       "      <td>198</td>\n",
       "      <td>40</td>\n",
       "      <td>79</td>\n",
       "      <td>1.799</td>\n",
       "    </tr>\n",
       "    <tr>\n",
       "      <th>241</th>\n",
       "      <td>2.816</td>\n",
       "      <td>8.353</td>\n",
       "      <td>621</td>\n",
       "      <td>19</td>\n",
       "      <td>732.0</td>\n",
       "      <td>219</td>\n",
       "      <td>17</td>\n",
       "      <td>26</td>\n",
       "      <td>1.187</td>\n",
       "    </tr>\n",
       "  </tbody>\n",
       "</table>\n",
       "</div>"
      ],
      "text/plain": [
       "     CaloriesBurned   Steps  Distance  Piani  MinutesOfSedentaryActivity  \\\n",
       "188           2.636   7.378       548     12                       838.0   \n",
       "170           2.835  10.740       808     11                         1.1   \n",
       "245           2.927   7.995       598     15                       802.0   \n",
       "146           3.336  11.151       829      1                       705.0   \n",
       "241           2.816   8.353       621     19                       732.0   \n",
       "\n",
       "     MinutesOfLightActivity  MinutesOfModerateActivity  \\\n",
       "188                     176                         33   \n",
       "170                     146                         39   \n",
       "245                     231                         34   \n",
       "146                     198                         40   \n",
       "241                     219                         17   \n",
       "\n",
       "     MinutesOfIntenseActivity  CalorieActivity  \n",
       "188                        12            1.044  \n",
       "170                        52            1.271  \n",
       "245                        16            1.347  \n",
       "146                        79            1.799  \n",
       "241                        26            1.187  "
      ]
     },
     "execution_count": 39,
     "metadata": {},
     "output_type": "execute_result"
    }
   ],
   "source": [
    "xtrain.head()"
   ]
  },
  {
   "cell_type": "code",
   "execution_count": 40,
   "metadata": {},
   "outputs": [
    {
     "data": {
      "text/plain": [
       "array([1], dtype=int64)"
      ]
     },
     "execution_count": 40,
     "metadata": {},
     "output_type": "execute_result"
    }
   ],
   "source": [
    "clf.predict(np.array([[3.5,14,800,20,700,200,48,30,1.5]]))"
   ]
  },
  {
   "cell_type": "code",
   "execution_count": 41,
   "metadata": {},
   "outputs": [
    {
     "data": {
      "text/plain": [
       "array([0], dtype=int64)"
      ]
     },
     "execution_count": 41,
     "metadata": {},
     "output_type": "execute_result"
    }
   ],
   "source": [
    "clf.predict(np.array([[3.5,14,800,20,300,200,48,30,1.5]]))"
   ]
  },
  {
   "cell_type": "code",
   "execution_count": 42,
   "metadata": {},
   "outputs": [
    {
     "data": {
      "text/html": [
       "<div>\n",
       "<style scoped>\n",
       "    .dataframe tbody tr th:only-of-type {\n",
       "        vertical-align: middle;\n",
       "    }\n",
       "\n",
       "    .dataframe tbody tr th {\n",
       "        vertical-align: top;\n",
       "    }\n",
       "\n",
       "    .dataframe thead th {\n",
       "        text-align: right;\n",
       "    }\n",
       "</style>\n",
       "<table border=\"1\" class=\"dataframe\">\n",
       "  <thead>\n",
       "    <tr style=\"text-align: right;\">\n",
       "      <th></th>\n",
       "      <th>Date</th>\n",
       "      <th>Time</th>\n",
       "      <th>Global_active_power</th>\n",
       "      <th>Global_reactive_power</th>\n",
       "      <th>Voltage</th>\n",
       "      <th>Global_intensity</th>\n",
       "      <th>Sub_metering_1</th>\n",
       "      <th>Sub_metering_2</th>\n",
       "      <th>Sub_metering_3</th>\n",
       "    </tr>\n",
       "  </thead>\n",
       "  <tbody>\n",
       "    <tr>\n",
       "      <th>0</th>\n",
       "      <td>16-12-06</td>\n",
       "      <td>17:24:00</td>\n",
       "      <td>4.216</td>\n",
       "      <td>0.418</td>\n",
       "      <td>234.84</td>\n",
       "      <td>18.4</td>\n",
       "      <td>0</td>\n",
       "      <td>1</td>\n",
       "      <td>17.0</td>\n",
       "    </tr>\n",
       "    <tr>\n",
       "      <th>1</th>\n",
       "      <td>16-12-06</td>\n",
       "      <td>17:25:00</td>\n",
       "      <td>5.36</td>\n",
       "      <td>0.436</td>\n",
       "      <td>233.63</td>\n",
       "      <td>23</td>\n",
       "      <td>0</td>\n",
       "      <td>1</td>\n",
       "      <td>16.0</td>\n",
       "    </tr>\n",
       "    <tr>\n",
       "      <th>2</th>\n",
       "      <td>16-12-06</td>\n",
       "      <td>17:26:00</td>\n",
       "      <td>5.374</td>\n",
       "      <td>0.498</td>\n",
       "      <td>233.29</td>\n",
       "      <td>23</td>\n",
       "      <td>0</td>\n",
       "      <td>2</td>\n",
       "      <td>17.0</td>\n",
       "    </tr>\n",
       "    <tr>\n",
       "      <th>3</th>\n",
       "      <td>16-12-06</td>\n",
       "      <td>17:27:00</td>\n",
       "      <td>5.388</td>\n",
       "      <td>0.502</td>\n",
       "      <td>233.74</td>\n",
       "      <td>23</td>\n",
       "      <td>0</td>\n",
       "      <td>1</td>\n",
       "      <td>17.0</td>\n",
       "    </tr>\n",
       "    <tr>\n",
       "      <th>4</th>\n",
       "      <td>16-12-06</td>\n",
       "      <td>17:28:00</td>\n",
       "      <td>3.666</td>\n",
       "      <td>0.528</td>\n",
       "      <td>235.68</td>\n",
       "      <td>15.8</td>\n",
       "      <td>0</td>\n",
       "      <td>1</td>\n",
       "      <td>17.0</td>\n",
       "    </tr>\n",
       "  </tbody>\n",
       "</table>\n",
       "</div>"
      ],
      "text/plain": [
       "       Date      Time Global_active_power Global_reactive_power Voltage  \\\n",
       "0  16-12-06  17:24:00               4.216                 0.418  234.84   \n",
       "1  16-12-06  17:25:00                5.36                 0.436  233.63   \n",
       "2  16-12-06  17:26:00               5.374                 0.498  233.29   \n",
       "3  16-12-06  17:27:00               5.388                 0.502  233.74   \n",
       "4  16-12-06  17:28:00               3.666                 0.528  235.68   \n",
       "\n",
       "  Global_intensity Sub_metering_1 Sub_metering_2  Sub_metering_3  \n",
       "0             18.4              0              1            17.0  \n",
       "1               23              0              1            16.0  \n",
       "2               23              0              2            17.0  \n",
       "3               23              0              1            17.0  \n",
       "4             15.8              0              1            17.0  "
      ]
     },
     "execution_count": 42,
     "metadata": {},
     "output_type": "execute_result"
    }
   ],
   "source": [
    "df.head()"
   ]
  },
  {
   "cell_type": "code",
   "execution_count": 43,
   "metadata": {},
   "outputs": [],
   "source": [
    "a = [i for i in range(31)]\n",
    "d = []\n",
    "i=0\n",
    "DF=df.loc[:43800]\n",
    "while i in range(43800):\n",
    "    try:\n",
    "        df1 = DF['Global_active_power'].loc[i:i+1440].astype(float)\n",
    "    except ValueError as e:\n",
    "        print('Error ',e,' on line ',i )\n",
    "    d.append(df1.mean())\n",
    "    i = i+1440\n",
    "#x = np.array(df['Global_active_power'].loc[:10].astype(float))\n",
    "#np.mean(x)"
   ]
  },
  {
   "cell_type": "code",
   "execution_count": 44,
   "metadata": {},
   "outputs": [
    {
     "data": {
      "image/png": "[encoded data removed]",
      "text/plain": [
       "<Figure size 576x396 with 1 Axes>"
      ]
     },
     "metadata": {},
     "output_type": "display_data"
    }
   ],
   "source": [
    "plt.style.use('seaborn')\n",
    "x = df\n",
    "fig, ax = plt.subplots()\n",
    "ax.plot(a,d)\n",
    "ax.set(title='Power Consumption',\n",
    "      xlabel='Time',\n",
    "      ylabel='Global active power');"
   ]
  },
  {
   "cell_type": "code",
   "execution_count": 25,
   "metadata": {},
   "outputs": [],
   "source": [
    "fig.savefig('Power Consumption.jpg')"
   ]
  }
 ],
 "metadata": {
  "kernelspec": {
   "display_name": "Python 3",
   "language": "python",
   "name": "python3"
  },
  "language_info": {
   "codemirror_mode": {
    "name": "ipython",
    "version": 3
   },
   "file_extension": ".py",
   "mimetype": "text/x-python",
   "name": "python",
   "nbconvert_exporter": "python",
   "pygments_lexer": "ipython3",
   "version": "3.6.10"
  }
 },
 "nbformat": 4,
 "nbformat_minor": 2
}
